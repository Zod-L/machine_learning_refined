{
 "cells": [
  {
   "cell_type": "code",
   "execution_count": 30,
   "metadata": {},
   "outputs": [],
   "source": [
    "# import autograd-wrapped numpy\n",
    "import autograd.numpy as np\n",
    "from sklearn.datasets import fetch_openml\n",
    "import cv2\n",
    "from tqdm import tqdm\n",
    "from autograd import grad\n",
    "\n",
    "\n",
    "# datapath to data\n",
    "datapath = '../mlrefined_datasets/superlearn_datasets/'"
   ]
  },
  {
   "cell_type": "markdown",
   "metadata": {},
   "source": [
    "# Exercise 7.2.  One-versus-All classification"
   ]
  },
  {
   "cell_type": "code",
   "execution_count": 31,
   "metadata": {},
   "outputs": [
    {
     "name": "stdout",
     "output_type": "stream",
     "text": [
      "The number of mis-classification samples:  9\n"
     ]
    }
   ],
   "source": [
    "import numpy as np\n",
    "from sklearn.linear_model import LogisticRegression\n",
    "\n",
    "csvname = '4class_data.csv'\n",
    "data = np.loadtxt(datapath + csvname,delimiter = ',');\n",
    "\n",
    "x = data[:-1,:]\n",
    "y = data[-1:,:] \n",
    "models = []\n",
    "for i in range(int(y.max()) + 1):\n",
    "    label = np.equal(y, i)\n",
    "    label = label.astype(int).squeeze()\n",
    "    \n",
    "    model = LogisticRegression(solver='lbfgs', max_iter=300)\n",
    "    model.fit(x.T, label)\n",
    "    models.append(model)\n",
    "    \n",
    "res = []\n",
    "for model in models:\n",
    "    res.append(np.array(model.predict_proba(x.T)[:, 1]))\n",
    "    \n",
    "final_pred = np.argmax(np.array(res).transpose(1, 0), axis = 1)\n",
    "print(\"The number of mis-classification samples: \", np.sum(final_pred != y[0]))"
   ]
  },
  {
   "cell_type": "markdown",
   "metadata": {},
   "source": [
    "# Exercise 7.3.  Multi-class Perceptron"
   ]
  },
  {
   "cell_type": "code",
   "execution_count": 32,
   "metadata": {},
   "outputs": [
    {
     "name": "stdout",
     "output_type": "stream",
     "text": [
      "The number of misclassification sample:  0\n"
     ]
    }
   ],
   "source": [
    "import autograd.numpy as np\n",
    "from autograd import grad\n",
    "\n",
    "# load in dataset\n",
    "csvname = '3class_data.csv'\n",
    "data = np.loadtxt(datapath + csvname,delimiter = ',')\n",
    "\n",
    "# get input/output pairs\n",
    "x = data[:-1,:]\n",
    "y = data[-1:,:]\n",
    "\n",
    "\n",
    "def pred(x, w):\n",
    "    a = w[0] + x.T @ w[1:]\n",
    "    return a.T\n",
    " \n",
    "def loss(w, x, y):\n",
    "    res = pred(x, w)\n",
    "    res = np.sum(res.max(axis=0) - res[y.flatten().astype(int), np.arange(np.size(y))])\n",
    "    res = res + 1e-5 * np.linalg.norm(w[1:, :]) ** 2\n",
    "    return res / float(np.size(y))\n",
    " \n",
    "w = 0.1 * np.random.randn(x.shape[0] + 1, np.unique(y).size)\n",
    "gra = grad(loss)\n",
    " \n",
    "lr = 0.005\n",
    "epochs = 3000\n",
    "for _ in range(epochs):\n",
    "    w -= lr * gra(w, x, y)\n",
    "\n",
    "print(\"The number of misclassification sample: \", (np.argmax(pred(x, w), axis = 0) != y[0].astype(int)).sum())"
   ]
  },
  {
   "cell_type": "markdown",
   "metadata": {},
   "source": [
    "# Exercise 7.4. The multi-class and two-class Perceptrons\n",
    "\n",
    "\n",
    "\\begin{equation}\n",
    "\\begin{align}\n",
    "g(w_0, w_1) = \\sum_{p = 1}^P [\\text{max}({x}_{p}^Tw_0, {x}_{p}^Tw_1) - x_p^Tw_{yp}] \\\\ \n",
    "= \\sum_{p = 1}^P [\\text{max}({x}_{p}^Tw_0 - x_p^Tw_{yp}, {x}_{p}^Tw_1 - x_p^Tw_{yp})]\n",
    "\\end{align}\n",
    "\\end{equation}\n",
    "When $y=-1$\n",
    "\n",
    "\n",
    "\\begin{equation}\n",
    "\\begin{align}\n",
    "g(w_0, w_1) = \\sum_{p = 1}^P [\\text{max}({x}_{p}^Tw_0 - x_p^Tw_{0}, {x}_{p}^Tw_1 - x_p^Tw_{0})] = \\sum_{p = 1}^P [\\text{max}(0, {x}_{p}^T(w_1 - w_0))] \\\\\n",
    "= \\sum_{p = 1}^P [\\text{max}(0, 1{x}_{p}^T(w_1 - w_0))] = \\sum_{p = 1}^P [\\text{max}(0, (-y){x}_{p}^T(w_1 - w_0))]\n",
    "\\end{align}\n",
    "\\end{equation}\n",
    "\n",
    "When $y=1$\n",
    "\n",
    "\n",
    "\n",
    "\n",
    "\\begin{equation}\n",
    "\\begin{align}\n",
    "g(w_0, w_1) = \\sum_{p = 1}^P [\\text{max}({x}_{p}^Tw_0 - x_p^Tw_{1}, {x}_{p}^Tw_1 - x_p^Tw_{1})] = \\sum_{p = 1}^P [\\text{max}({x}_{p}^T(w_0 - w_1), 0)] \\\\ \n",
    "= \\sum_{p = 1}^P [\\text{max}({x}_{p}^T(-1)(w_1 - w_0), 0)] = \\sum_{p = 1}^P [\\text{max}({x}_{p}^T(-y)(w_1 - w_0), 0)]\n",
    "\\end{align}\n",
    "\\end{equation}\n",
    "\n",
    "\n",
    "Let $w = w_1-w_0$\n",
    "\\begin{equation}\n",
    "\\begin{align}\n",
    "g(w) = \\sum_{p = 1}^P [\\text{max}(0, -y_p{x}_{p}^Tw)]\n",
    "\\end{align}\n",
    "\\end{equation}\n",
    "\n",
    "\n"
   ]
  },
  {
   "cell_type": "markdown",
   "metadata": {},
   "source": [
    "# Exercise 7.8. The multi-class Perceptron and Softmax costs are convex\n",
    "Perceptron\n",
    "\\begin{equation}\n",
    "g(w_0,w_1,...,w_{C-1}) = \\frac{1}{P}\\sum_{p=1}^P[\\text{max}_i(x_p^Tw_i) - x_p^Tw_y]\n",
    "\\end{equation}\n",
    "\n",
    "\\begin{equation}\n",
    "\\begin{align}\n",
    "g(\\lambda w_0 + (1-\\lambda)w_0', \\lambda w_1 + (1-\\lambda)w_1',...,\\lambda w_{C-1} + (1-\\lambda)w_{C-1}') \\\\= \\frac{1}{P}\\sum_{p=1}^P[\\text{max}_i(\\lambda x_p^Tw_i + (1-\\lambda)x_p^Tw_i') - \\lambda x_p^Tw_y - (1-\\lambda)x_p^Tw_y'] \\\\\n",
    "\\leq \\frac{1}{P}\\sum_{p=1}^P[\\lambda max(x_p^Tw_i) + (1-\\lambda) max(x_p^Tw_i')  - \\lambda x_p^Tw_y - (1-\\lambda)x_p^Tw_y']\\\\ = \\frac{1}{P}\\sum_{p=1}^P[\\lambda max(x_p^Tw_i) - \\lambda x_p^Tw_y] +  \\frac{1}{P}\\sum_{p=1}^P[(1-\\lambda) max(x_p^Tw_i') - (1-\\lambda)x_p^Tw_y']\\\\\n",
    "= \\lambda g(w_0,w_1,...,w_{C-1}) + (1-\\lambda)g(w_0',w_1',...,w_{C-1}')\n",
    "\\end{align}\n",
    "\\end{equation}\n",
    "\n",
    "Softmax <br>\n",
    "\\begin{equation}\n",
    "\\begin{align}\n",
    "g(w_0,w_1,...,w_{C-1}) = \\frac{1}{P}\\sum_{p=1}^P[\\log(\\sum e^{x^Tw}) - x^Tw_y]\n",
    "\\end{align}\n",
    "\\end{equation}\n",
    "\n",
    "\n",
    "Since the summation of convex is still convex, and $x^Tw_y$ is convex, to prove g is convex, only need to prove $\\log(\\sum e^{x^Tw})$ convex\n",
    "\n",
    "\n",
    "\\begin{equation}\n",
    "\\begin{align}\n",
    "\\log(\\sum e^{x^T(\\lambda w + (1-\\lambda)w')}) = \\log(\\sum e^{x^T\\lambda w + x^T(1-\\lambda)w'}) = \\log(\\sum e^{x^T\\lambda w}e^{x^T(1-\\lambda)w'})\n",
    "\\end{align}\n",
    "\\end{equation}\n",
    "\n",
    "From Hölder's inequality\n",
    "\n",
    "\\begin{equation}\n",
    "\\begin{align}\n",
    "\\sum e^{x^T\\lambda w}e^{x^T(1-\\lambda)w'} \\leq (\\sum (e^{x^T\\lambda w})^{\\frac{1}{\\lambda}})^\\lambda (\\sum (e^{x^T(1-\\lambda) w'})^{\\frac{1}{(1-\\lambda)}})^{(1-\\lambda)} \\\\ \n",
    "= (\\sum e^{x^Tw})^\\lambda(\\sum e^{x^Tw'})^{(1-\\lambda)}\n",
    "\\end{align}\n",
    "\\end{equation}\n",
    "\n",
    "\n",
    "\\begin{equation}\n",
    "\\begin{align}\n",
    "\\log(\\sum e^{x^T\\lambda w}e^{x^T(1-\\lambda)w'}) \\leq \\log((\\sum e^{x^Tw})^\\lambda(\\sum e^{x^Tw'})^{(1-\\lambda)}) \\\\\n",
    " = \\lambda\\log(\\sum e^{x^Tw}) + (1-\\lambda)\\log(\\sum e^{x^Tw'})\n",
    "\\end{align}\n",
    "\\end{equation}\n",
    "Therefore $\\log(\\sum e^{x^Tw})$ convex, g convex"
   ]
  },
  {
   "cell_type": "markdown",
   "metadata": {},
   "source": [
    "# Exercise 9.2. MNIST classification: pixels vs edge-based features"
   ]
  },
  {
   "cell_type": "code",
   "execution_count": 33,
   "metadata": {},
   "outputs": [
    {
     "name": "stdout",
     "output_type": "stream",
     "text": [
      "(50000, 784)\n",
      "(50000, 1)\n"
     ]
    },
    {
     "name": "stderr",
     "output_type": "stream",
     "text": [
      "C:\\Users\\86186\\AppData\\Local\\Temp\\ipykernel_14376\\2070455821.py:14: RuntimeWarning: invalid value encountered in true_divide\n",
      "  sobelxy = (sobelxy * 255 / sobelxy.max()).astype(np.uint8)\n"
     ]
    }
   ],
   "source": [
    "def get_hist(x):\n",
    "    blur = (cv2.GaussianBlur(x.reshape(28, 28, 1), (3,3), 0))\n",
    "    sobelx = cv2.Sobel(src=blur, ddepth=cv2.CV_64F, dx=1, dy=0, ksize=3) # Sobel Edge Detection on the X axis\n",
    "    sobely = cv2.Sobel(src=blur, ddepth=cv2.CV_64F, dx=0, dy=1, ksize=3) # Sobel Edge Detection on the Y axis\n",
    "    sobelxy = np.sqrt(sobelx**2 + sobely**2)\n",
    "    sobelxy = (sobelxy * 255 / sobelxy.max()).astype(np.uint8)\n",
    "    res = [cv2.calcHist([sobelxy], [0], None, [256], [0, 256]).squeeze()]\n",
    "    for i in range(4):\n",
    "        for j in range(4):\n",
    "            blur = (cv2.GaussianBlur(x.reshape(28, 28, 1)[4*i:4*(i+1), 4*j:4*(j+1)], (3,3), 0))\n",
    "            sobelx = cv2.Sobel(src=blur, ddepth=cv2.CV_64F, dx=1, dy=0, ksize=3) # Sobel Edge Detection on the X axis\n",
    "            sobely = cv2.Sobel(src=blur, ddepth=cv2.CV_64F, dx=0, dy=1, ksize=3) # Sobel Edge Detection on the Y axis\n",
    "            sobelxy = np.sqrt(sobelx**2 + sobely**2)\n",
    "            sobelxy = (sobelxy * 255 / sobelxy.max()).astype(np.uint8)\n",
    "            res.append(cv2.calcHist([sobelxy], [0], None, [16], [0, 256]).squeeze())\n",
    "    return np.concatenate(res, axis=0)\n",
    "\n",
    "\n",
    "# import MNIST\n",
    "import matplotlib.pyplot as plt\n",
    "x, y = fetch_openml('mnist_784', version=1, return_X_y=True)\n",
    "\n",
    "\n",
    "# re-shape input/output data\n",
    "y = np.array([int(v) for v in y])[:, np.newaxis]\n",
    "x = x.to_numpy()[:50000, :]\n",
    "y = y[:50000, :]\n",
    "print(x.shape)\n",
    "print(y.shape)\n",
    "\n",
    "\n",
    "x_hist = np.zeros((x.shape[0], 512))\n",
    "for i in range(x.shape[0]):\n",
    "    x_hist[i, :] = get_hist(x[i])"
   ]
  },
  {
   "cell_type": "code",
   "execution_count": 34,
   "metadata": {},
   "outputs": [],
   "source": [
    "# cv2.imwrite(\"../test1.png\", x[0].reshape(28, 28, 1))\n",
    "# canny = cv2.Canny((x[0].reshape(28, 28, 1)).astype(np.uint8), 50, 150)\n",
    "# cv2.imwrite(\"../test2.png\", cv2.calcHist([canny], [0], None, [num_bin], [0, 256]))\n",
    "\n",
    "\n",
    "x_mean = x.mean(axis=0, keepdims=True)\n",
    "x_std = np.std(x, axis=0, keepdims=True)\n",
    "x = (x - x_mean) / (x_std + 1e-5)\n",
    "x = np.hstack((np.ones((x.shape[0], 1)), x))\n",
    "\n",
    "x_hist = x_hist[:, 1:]\n",
    "x_mean = x_hist.mean(axis=0, keepdims=True)\n",
    "x_std = np.std(x_hist, axis=0, keepdims=True)\n",
    "x_hist = (x_hist - x_mean) / (x_std + 1e-5)\n",
    "x_hist = np.hstack((np.ones((x_hist.shape[0], 1)), x_hist))\n",
    "\n",
    "\n",
    "\n",
    "\n"
   ]
  },
  {
   "cell_type": "code",
   "execution_count": 35,
   "metadata": {},
   "outputs": [],
   "source": [
    "def pred(ws, x):\n",
    "    return x @ ws.T\n",
    "\n",
    "def loss(ws, x, y):\n",
    "    res = pred(ws, x)\n",
    "    tmp = res[np.arange(res.shape[0]), y.squeeze()][:, np.newaxis]\n",
    "    res = np.exp(res - tmp).sum(axis=1, keepdims=True)\n",
    "\n",
    "\n",
    "    return np.log(1 + res).mean() #+ 1e-4 * np.linalg.norm(ws[:, 1:]) ** 2\n",
    "\n",
    "\n",
    "def calc_cost(ws, x, y):\n",
    "    num = 0\n",
    "    res = 0\n",
    "    count = 0\n",
    "    while num < x.shape[0]:\n",
    "        res += loss(ws, x[num : num + 200, :], y[num : num + 200, :])\n",
    "        count += 1\n",
    "        num += 200\n",
    "    return res / count\n",
    "\n",
    "\n",
    "def calc_mis(ws, x, y):\n",
    "    num = 0\n",
    "    res = 0\n",
    "    while num < x.shape[0]:\n",
    "        pred_out = np.argmax(pred(ws, x[num : num + 200, :]), axis=1)[:, np.newaxis]\n",
    "        res += (pred_out != y[num : num + 200, :]).sum()\n",
    "        num += 200\n",
    "    return res\n",
    "\n",
    "loss_grad = grad(loss, 0)\n",
    "\n",
    "def train_and_display(ws, x, y):\n",
    "    lr = 1e-2\n",
    "    batch_size = 200\n",
    "    epochs = 20\n",
    "\n",
    "\n",
    "    cost_hist = [calc_cost(ws, x, y)]\n",
    "    mis_hist = [calc_mis(ws, x, y)]\n",
    "\n",
    "    for _ in range(epochs):\n",
    "        num = 0\n",
    "        # print(y[num : num + 10, :].squeeze())\n",
    "        # print(np.argmax(pred(ws, x[num : num + 10, :]), axis=1))\n",
    "        for _ in tqdm(range(x.shape[0] // batch_size)):\n",
    "            x_batch = x[num : num + batch_size, :]\n",
    "            y_batch = y[num : num + batch_size, :]\n",
    "            ws -= lr * loss_grad(ws, x_batch, y_batch)\n",
    "            num += batch_size\n",
    "        cost_hist.append(calc_cost(ws, x, y))\n",
    "        mis_hist.append(calc_mis(ws, x, y))\n",
    "\n",
    "    return cost_hist, mis_hist"
   ]
  },
  {
   "cell_type": "code",
   "execution_count": 36,
   "metadata": {},
   "outputs": [
    {
     "name": "stderr",
     "output_type": "stream",
     "text": [
      "  0%|          | 0/250 [00:00<?, ?it/s]"
     ]
    },
    {
     "name": "stderr",
     "output_type": "stream",
     "text": [
      "100%|██████████| 250/250 [00:00<00:00, 741.55it/s]\n",
      "100%|██████████| 250/250 [00:00<00:00, 983.02it/s] \n",
      "100%|██████████| 250/250 [00:00<00:00, 938.84it/s]\n",
      "100%|██████████| 250/250 [00:00<00:00, 956.75it/s]\n",
      "100%|██████████| 250/250 [00:00<00:00, 940.56it/s]\n",
      "100%|██████████| 250/250 [00:00<00:00, 935.32it/s]\n",
      "100%|██████████| 250/250 [00:00<00:00, 956.75it/s]\n",
      "100%|██████████| 250/250 [00:00<00:00, 888.90it/s]\n",
      "100%|██████████| 250/250 [00:00<00:00, 986.84it/s] \n",
      "100%|██████████| 250/250 [00:00<00:00, 914.85it/s]\n",
      "100%|██████████| 250/250 [00:00<00:00, 932.09it/s]\n",
      "100%|██████████| 250/250 [00:00<00:00, 926.66it/s]\n",
      "100%|██████████| 250/250 [00:00<00:00, 934.62it/s]\n",
      "100%|██████████| 250/250 [00:00<00:00, 908.20it/s]\n",
      "100%|██████████| 250/250 [00:00<00:00, 961.29it/s]\n",
      "100%|██████████| 250/250 [00:00<00:00, 925.20it/s]\n",
      "100%|██████████| 250/250 [00:00<00:00, 943.25it/s]\n",
      "100%|██████████| 250/250 [00:00<00:00, 822.93it/s]\n",
      "100%|██████████| 250/250 [00:00<00:00, 936.12it/s]\n",
      "100%|██████████| 250/250 [00:00<00:00, 944.20it/s]\n",
      "100%|██████████| 250/250 [00:00<00:00, 1114.07it/s]\n",
      "100%|██████████| 250/250 [00:00<00:00, 1073.40it/s]\n",
      "100%|██████████| 250/250 [00:00<00:00, 1071.54it/s]\n",
      "100%|██████████| 250/250 [00:00<00:00, 1046.79it/s]\n",
      "100%|██████████| 250/250 [00:00<00:00, 899.54it/s]\n",
      "100%|██████████| 250/250 [00:00<00:00, 1114.54it/s]\n",
      "100%|██████████| 250/250 [00:00<00:00, 1063.91it/s]\n",
      "100%|██████████| 250/250 [00:00<00:00, 1041.86it/s]\n",
      "100%|██████████| 250/250 [00:00<00:00, 1110.72it/s]\n",
      "100%|██████████| 250/250 [00:00<00:00, 1141.64it/s]\n",
      "100%|██████████| 250/250 [00:00<00:00, 1182.39it/s]\n",
      "100%|██████████| 250/250 [00:00<00:00, 1162.66it/s]\n",
      "100%|██████████| 250/250 [00:00<00:00, 1121.37it/s]\n",
      "100%|██████████| 250/250 [00:00<00:00, 1199.82it/s]\n",
      "100%|██████████| 250/250 [00:00<00:00, 1091.14it/s]\n",
      "100%|██████████| 250/250 [00:00<00:00, 1219.14it/s]\n",
      "100%|██████████| 250/250 [00:00<00:00, 1165.86it/s]\n",
      "100%|██████████| 250/250 [00:00<00:00, 1228.92it/s]\n",
      "100%|██████████| 250/250 [00:00<00:00, 1163.03it/s]\n",
      "100%|██████████| 250/250 [00:00<00:00, 1000.90it/s]\n"
     ]
    }
   ],
   "source": [
    "ws = np.random.rand(y.max()+1, x.shape[1])\n",
    "ori_cost, ori_mis = train_and_display(ws, x, y)\n",
    "ws = np.random.rand(y.max()+1, x_hist.shape[1])\n",
    "hist_cost, hist_mis = train_and_display(ws, x_hist, y)\n"
   ]
  },
  {
   "cell_type": "code",
   "execution_count": 37,
   "metadata": {},
   "outputs": [
    {
     "data": {
      "text/plain": [
       "<matplotlib.legend.Legend at 0x2891d3a6d60>"
      ]
     },
     "execution_count": 37,
     "metadata": {},
     "output_type": "execute_result"
    },
    {
     "data": {
      "image/png": "[encoded data removed]",
      "text/plain": [
       "<Figure size 640x480 with 1 Axes>"
      ]
     },
     "metadata": {},
     "output_type": "display_data"
    }
   ],
   "source": [
    "plt.plot(np.arange(len(ori_cost)), ori_cost, label=\"Original feature\")\n",
    "plt.plot(np.arange(len(hist_cost)), hist_cost, label=\"Histogram feature\")\n",
    "plt.xlabel(\"Epochs\")\n",
    "plt.ylabel(\"Cost history\")\n",
    "plt.title(\"Cost history plot\")\n",
    "plt.legend()\n"
   ]
  },
  {
   "cell_type": "code",
   "execution_count": 38,
   "metadata": {},
   "outputs": [
    {
     "data": {
      "text/plain": [
       "<matplotlib.legend.Legend at 0x2892e15dd60>"
      ]
     },
     "execution_count": 38,
     "metadata": {},
     "output_type": "execute_result"
    },
    {
     "data": {
      "image/png": "[encoded data removed]",
      "text/plain": [
       "<Figure size 640x480 with 1 Axes>"
      ]
     },
     "metadata": {},
     "output_type": "display_data"
    }
   ],
   "source": [
    "plt.plot(np.arange(len(ori_mis)), ori_mis, label=\"Original feature\")\n",
    "plt.plot(np.arange(len(hist_mis)), hist_mis, label=\"Histogram feature\")\n",
    "plt.xlabel(\"Epochs\")\n",
    "plt.ylabel(\"Misclassification rate\")\n",
    "plt.title(\"Misclassification rate plot\")\n",
    "plt.legend()\n",
    "\n"
   ]
  }
 ],
 "metadata": {
  "anaconda-cloud": {},
  "kernelspec": {
   "display_name": "Python 3",
   "language": "python",
   "name": "python3"
  },
  "language_info": {
   "codemirror_mode": {
    "name": "ipython",
    "version": 3
   },
   "file_extension": ".py",
   "mimetype": "text/x-python",
   "name": "python",
   "nbconvert_exporter": "python",
   "pygments_lexer": "ipython3",
   "version": "3.9.13"
  },
  "toc": {
   "colors": {
    "hover_highlight": "#DAA520",
    "navigate_num": "#000000",
    "navigate_text": "#333333",
    "running_highlight": "#FF0000",
    "selected_highlight": "#FFD700",
    "sidebar_border": "#EEEEEE",
    "wrapper_background": "#FFFFFF"
   },
   "moveMenuLeft": true,
   "nav_menu": {
    "height": "234.8px",
    "width": "252px"
   },
   "navigate_menu": true,
   "number_sections": false,
   "sideBar": true,
   "threshold": 4,
   "toc_cell": true,
   "toc_section_display": "block",
   "toc_window_display": false,
   "widenNotebook": false
  },
  "widgets": {
   "application/vnd.jupyter.widget-state+json": {
    "state": {},
    "version_major": 2,
    "version_minor": 0
   }
  }
 },
 "nbformat": 4,
 "nbformat_minor": 1
}
